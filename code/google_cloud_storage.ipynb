{
 "cells": [
  {
   "cell_type": "code",
   "execution_count": 33,
   "metadata": {},
   "outputs": [],
   "source": [
    "import os\n",
    "from google.cloud import storage"
   ]
  },
  {
   "cell_type": "code",
   "execution_count": 34,
   "metadata": {},
   "outputs": [],
   "source": [
    "os.environ['GOOGLE_APPLICATION_CREDENTIALS'] = 'ml-ops-fundamentals-97a27aef545e.json'"
   ]
  },
  {
   "cell_type": "markdown",
   "metadata": {},
   "source": [
    "<h4>Create Object Bucket<h4>"
   ]
  },
  {
   "cell_type": "code",
   "execution_count": 35,
   "metadata": {},
   "outputs": [],
   "source": [
    "storage_client = storage.Client()"
   ]
  },
  {
   "cell_type": "markdown",
   "metadata": {},
   "source": [
    "<h4>Create a new Bucket<h4>"
   ]
  },
  {
   "cell_type": "code",
   "execution_count": 36,
   "metadata": {},
   "outputs": [
    {
     "name": "stderr",
     "output_type": "stream",
     "text": [
      "/var/folders/6m/hyg2m8l17n90b43ntnk_cybh0000gn/T/ipykernel_13512/4092802494.py:3: DeprecationWarning: Assignment to 'Bucket.location' is deprecated, as it is only valid before the bucket is created. Instead, pass the location to `Bucket.create`.\n",
      "  bucket.location = 'US'\n"
     ]
    }
   ],
   "source": [
    "bucket_name = 'ml-ops-fundamentals-bucket'\n",
    "bucket = storage_client.bucket(bucket_name)\n",
    "bucket.location = 'US'\n",
    "bucket = storage_client.create_bucket(bucket)"
   ]
  },
  {
   "cell_type": "markdown",
   "metadata": {},
   "source": [
    "<h4>Print Bucket Detail<h4>"
   ]
  },
  {
   "cell_type": "code",
   "execution_count": 37,
   "metadata": {},
   "outputs": [
    {
     "data": {
      "text/plain": [
       "{'name': 'ml-ops-fundamentals-bucket',\n",
       " '_properties': {'kind': 'storage#bucket',\n",
       "  'selfLink': 'https://www.googleapis.com/storage/v1/b/ml-ops-fundamentals-bucket',\n",
       "  'id': 'ml-ops-fundamentals-bucket',\n",
       "  'name': 'ml-ops-fundamentals-bucket',\n",
       "  'projectNumber': '606446946260',\n",
       "  'metageneration': '1',\n",
       "  'location': 'US',\n",
       "  'storageClass': 'STANDARD',\n",
       "  'etag': 'CAE=',\n",
       "  'timeCreated': '2022-02-08T04:53:16.125Z',\n",
       "  'updated': '2022-02-08T04:53:16.125Z',\n",
       "  'iamConfiguration': {'bucketPolicyOnly': {'enabled': False},\n",
       "   'uniformBucketLevelAccess': {'enabled': False},\n",
       "   'publicAccessPrevention': 'inherited'},\n",
       "  'locationType': 'multi-region',\n",
       "  'rpo': 'DEFAULT'},\n",
       " '_changes': set(),\n",
       " '_client': <google.cloud.storage.client.Client at 0x7f9a6c7f8550>,\n",
       " '_acl': <google.cloud.storage.acl.BucketACL at 0x7f9a68662700>,\n",
       " '_default_object_acl': <google.cloud.storage.acl.DefaultObjectACL at 0x7f9a68662c40>,\n",
       " '_label_removals': set(),\n",
       " '_user_project': None}"
      ]
     },
     "execution_count": 37,
     "metadata": {},
     "output_type": "execute_result"
    }
   ],
   "source": [
    "vars(bucket)"
   ]
  },
  {
   "cell_type": "markdown",
   "metadata": {},
   "source": [
    "<h4>Accesing a Specific Bucket<h4>"
   ]
  },
  {
   "cell_type": "code",
   "execution_count": 38,
   "metadata": {},
   "outputs": [],
   "source": [
    "my_bucket = storage_client.get_bucket(bucket_name)"
   ]
  },
  {
   "cell_type": "markdown",
   "metadata": {},
   "source": [
    "<h4>Upload Files<h4>"
   ]
  },
  {
   "cell_type": "code",
   "execution_count": 39,
   "metadata": {},
   "outputs": [],
   "source": [
    "def upload_to_bucket(blob_name,file_path,bucket_name):\n",
    "    try:\n",
    "        bucket = storage_client.get_bucket(bucket_name)\n",
    "        blob = bucket.blob(blob_name)\n",
    "        blob.upload_from_filename(file_path)\n",
    "        return print('Uploaded {} to {}'.format(file_path,bucket_name))\n",
    "    except Exception as e:\n",
    "        print(e)\n",
    "        return False"
   ]
  },
  {
   "cell_type": "code",
   "execution_count": 40,
   "metadata": {},
   "outputs": [
    {
     "name": "stdout",
     "output_type": "stream",
     "text": [
      "Uploaded /Users/mayel/fixdesktop/virtual/deploy_ml_fundamentals/data/finantials.csv.dvc to ml-ops-fundamentals-bucket\n"
     ]
    }
   ],
   "source": [
    "#File 1\n",
    "file_path = r'/Users/mayel/fixdesktop/virtual/deploy_ml_fundamentals/data/finantials.csv.dvc'\n",
    "upload_to_bucket('DVC_DATA/finantials.csv.dvc',file_path,bucket_name)"
   ]
  },
  {
   "cell_type": "code",
   "execution_count": 41,
   "metadata": {},
   "outputs": [
    {
     "name": "stdout",
     "output_type": "stream",
     "text": [
      "Uploaded /Users/mayel/fixdesktop/virtual/deploy_ml_fundamentals/data/full_data.csv.dvc to ml-ops-fundamentals-bucket\n"
     ]
    }
   ],
   "source": [
    "#File 2\n",
    "file_path = r'/Users/mayel/fixdesktop/virtual/deploy_ml_fundamentals/data/full_data.csv.dvc'\n",
    "upload_to_bucket('DVC_DATA/full_data.csv.dvc',file_path,bucket_name)"
   ]
  },
  {
   "cell_type": "code",
   "execution_count": 42,
   "metadata": {},
   "outputs": [
    {
     "name": "stdout",
     "output_type": "stream",
     "text": [
      "Uploaded /Users/mayel/fixdesktop/virtual/deploy_ml_fundamentals/data/movies.csv.dvc to ml-ops-fundamentals-bucket\n"
     ]
    }
   ],
   "source": [
    "#File 3\n",
    "file_path = r'/Users/mayel/fixdesktop/virtual/deploy_ml_fundamentals/data/movies.csv.dvc'\n",
    "upload_to_bucket('DVC_DATA/movies.csv.dvc',file_path,bucket_name)"
   ]
  },
  {
   "cell_type": "code",
   "execution_count": 43,
   "metadata": {},
   "outputs": [
    {
     "name": "stdout",
     "output_type": "stream",
     "text": [
      "Uploaded /Users/mayel/fixdesktop/virtual/deploy_ml_fundamentals/data/opening_gross.csv.dvc to ml-ops-fundamentals-bucket\n"
     ]
    }
   ],
   "source": [
    "#File 4\n",
    "file_path = r'/Users/mayel/fixdesktop/virtual/deploy_ml_fundamentals/data/opening_gross.csv.dvc'\n",
    "upload_to_bucket('DVC_DATA/opening_gross.csv.dvc',file_path,bucket_name)"
   ]
  },
  {
   "cell_type": "code",
   "execution_count": 44,
   "metadata": {},
   "outputs": [
    {
     "name": "stdout",
     "output_type": "stream",
     "text": [
      "Uploaded /Users/mayel/fixdesktop/virtual/deploy_ml_fundamentals/models/model.pkl.dvc to ml-ops-fundamentals-bucket\n"
     ]
    }
   ],
   "source": [
    "#File 5 Model\n",
    "file_path = r'/Users/mayel/fixdesktop/virtual/deploy_ml_fundamentals/models/model.pkl.dvc'\n",
    "upload_to_bucket('DVC_MODEL/model.pkl.dvc',file_path,bucket_name)"
   ]
  },
  {
   "cell_type": "markdown",
   "metadata": {},
   "source": [
    "<h4>Download Files<h4>"
   ]
  },
  {
   "cell_type": "code",
   "execution_count": 31,
   "metadata": {},
   "outputs": [],
   "source": [
    "def download_file_from_bucket(blob_name,file_path,bucket_name):\n",
    "    try:\n",
    "        bucket = storage_client.get_bucket(bucket_name)\n",
    "        blob = bucket.blob(blob_name)\n",
    "        with open(file_path, \"wb\") as f:\n",
    "            storage_client.download_blob_to_file(blob, f)\n",
    "        return print('Downloaded {} from {}'.format(blob_name,bucket_name))\n",
    "    except Exception as e:\n",
    "        print(e)\n",
    "        return False"
   ]
  },
  {
   "cell_type": "code",
   "execution_count": 32,
   "metadata": {},
   "outputs": [
    {
     "name": "stdout",
     "output_type": "stream",
     "text": [
      "Downloaded DVC_DATA/finantials.csv.dvc from ml-ops-fundamentals-bucket\n"
     ]
    }
   ],
   "source": [
    "#Test File\n",
    "file_path = r'/Users/mayel/fixdesktop/virtual/deploy_ml_fundamentals/download_from_bucket/finantials.csv.dvc'\n",
    "download_file_from_bucket('DVC_DATA/finantials.csv.dvc', file_path, bucket_name)"
   ]
  },
  {
   "cell_type": "markdown",
   "metadata": {},
   "source": [
    "<h1>Accesing Data<h1>"
   ]
  },
  {
   "cell_type": "code",
   "execution_count": 55,
   "metadata": {},
   "outputs": [
    {
     "ename": "FileMissingError",
     "evalue": "Can't find '../movies.csv' neither locally nor on remote",
     "output_type": "error",
     "traceback": [
      "\u001b[0;31m---------------------------------------------------------------------------\u001b[0m",
      "\u001b[0;31mOutputNotFoundError\u001b[0m                       Traceback (most recent call last)",
      "File \u001b[0;32m~/fixdesktop/virtual/deploy_ml_fundamentals/lib/python3.9/site-packages/dvc/fs/dvc.py:68\u001b[0m, in \u001b[0;36mDvcFileSystem._get_fs_path\u001b[0;34m(self, path, remote)\u001b[0m\n\u001b[1;32m     67\u001b[0m \u001b[38;5;28;01mtry\u001b[39;00m:\n\u001b[0;32m---> 68\u001b[0m     outs \u001b[38;5;241m=\u001b[39m \u001b[38;5;28;43mself\u001b[39;49m\u001b[38;5;241;43m.\u001b[39;49m\u001b[43m_find_outs\u001b[49m\u001b[43m(\u001b[49m\u001b[43mpath\u001b[49m\u001b[43m,\u001b[49m\u001b[43m \u001b[49m\u001b[43mstrict\u001b[49m\u001b[38;5;241;43m=\u001b[39;49m\u001b[38;5;28;43;01mFalse\u001b[39;49;00m\u001b[43m)\u001b[49m\n\u001b[1;32m     69\u001b[0m \u001b[38;5;28;01mexcept\u001b[39;00m OutputNotFoundError \u001b[38;5;28;01mas\u001b[39;00m exc:\n",
      "File \u001b[0;32m~/fixdesktop/virtual/deploy_ml_fundamentals/lib/python3.9/site-packages/dvc/fs/dvc.py:41\u001b[0m, in \u001b[0;36mDvcFileSystem._find_outs\u001b[0;34m(self, path, *args, **kwargs)\u001b[0m\n\u001b[1;32m     40\u001b[0m \u001b[38;5;28;01mdef\u001b[39;00m \u001b[38;5;21m_find_outs\u001b[39m(\u001b[38;5;28mself\u001b[39m, path, \u001b[38;5;241m*\u001b[39margs, \u001b[38;5;241m*\u001b[39m\u001b[38;5;241m*\u001b[39mkwargs):\n\u001b[0;32m---> 41\u001b[0m     outs \u001b[38;5;241m=\u001b[39m \u001b[38;5;28;43mself\u001b[39;49m\u001b[38;5;241;43m.\u001b[39;49m\u001b[43mrepo\u001b[49m\u001b[38;5;241;43m.\u001b[39;49m\u001b[43mfind_outs_by_path\u001b[49m\u001b[43m(\u001b[49m\u001b[43mpath\u001b[49m\u001b[43m,\u001b[49m\u001b[43m \u001b[49m\u001b[38;5;241;43m*\u001b[39;49m\u001b[43margs\u001b[49m\u001b[43m,\u001b[49m\u001b[43m \u001b[49m\u001b[38;5;241;43m*\u001b[39;49m\u001b[38;5;241;43m*\u001b[39;49m\u001b[43mkwargs\u001b[49m\u001b[43m)\u001b[49m\n\u001b[1;32m     43\u001b[0m     \u001b[38;5;28;01mdef\u001b[39;00m \u001b[38;5;21m_is_cached\u001b[39m(out):\n",
      "File \u001b[0;32m~/fixdesktop/virtual/deploy_ml_fundamentals/lib/python3.9/site-packages/dvc/repo/__init__.py:435\u001b[0m, in \u001b[0;36mRepo.find_outs_by_path\u001b[0;34m(self, path, outs, recursive, strict)\u001b[0m\n\u001b[1;32m    434\u001b[0m \u001b[38;5;28;01mif\u001b[39;00m \u001b[38;5;129;01mnot\u001b[39;00m matched:\n\u001b[0;32m--> 435\u001b[0m     \u001b[38;5;28;01mraise\u001b[39;00m OutputNotFoundError(path, \u001b[38;5;28mself\u001b[39m)\n\u001b[1;32m    437\u001b[0m \u001b[38;5;28;01mreturn\u001b[39;00m matched\n",
      "\u001b[0;31mOutputNotFoundError\u001b[0m: Unable to find DVC file with output '../movies.csv'",
      "\nThe above exception was the direct cause of the following exception:\n",
      "\u001b[0;31mFileNotFoundError\u001b[0m                         Traceback (most recent call last)",
      "File \u001b[0;32m~/fixdesktop/virtual/deploy_ml_fundamentals/lib/python3.9/site-packages/dvc/repo/__init__.py:463\u001b[0m, in \u001b[0;36mRepo.open_by_relpath\u001b[0;34m(self, path, remote, mode, encoding)\u001b[0m\n\u001b[1;32m    462\u001b[0m \u001b[38;5;28;01mtry\u001b[39;00m:\n\u001b[0;32m--> 463\u001b[0m     \u001b[38;5;28;01mwith\u001b[39;00m \u001b[43mfs\u001b[49m\u001b[38;5;241;43m.\u001b[39;49m\u001b[43mopen\u001b[49m\u001b[43m(\u001b[49m\n\u001b[1;32m    464\u001b[0m \u001b[43m        \u001b[49m\u001b[43mpath\u001b[49m\u001b[43m,\u001b[49m\u001b[43m \u001b[49m\u001b[43mmode\u001b[49m\u001b[38;5;241;43m=\u001b[39;49m\u001b[43mmode\u001b[49m\u001b[43m,\u001b[49m\u001b[43m \u001b[49m\u001b[43mencoding\u001b[49m\u001b[38;5;241;43m=\u001b[39;49m\u001b[43mencoding\u001b[49m\u001b[43m,\u001b[49m\u001b[43m \u001b[49m\u001b[43mremote\u001b[49m\u001b[38;5;241;43m=\u001b[39;49m\u001b[43mremote\u001b[49m\n\u001b[1;32m    465\u001b[0m \u001b[43m    \u001b[49m\u001b[43m)\u001b[49m \u001b[38;5;28;01mas\u001b[39;00m fobj:\n\u001b[1;32m    466\u001b[0m         \u001b[38;5;28;01myield\u001b[39;00m fobj\n",
      "File \u001b[0;32m~/fixdesktop/virtual/deploy_ml_fundamentals/lib/python3.9/site-packages/dvc/fs/repo.py:227\u001b[0m, in \u001b[0;36mRepoFileSystem.open\u001b[0;34m(self, path, mode, encoding, **kwargs)\u001b[0m\n\u001b[1;32m    225\u001b[0m         \u001b[38;5;28;01mraise\u001b[39;00m\n\u001b[0;32m--> 227\u001b[0m \u001b[38;5;28;01mreturn\u001b[39;00m \u001b[43mdvc_fs\u001b[49m\u001b[38;5;241;43m.\u001b[39;49m\u001b[43mopen\u001b[49m\u001b[43m(\u001b[49m\u001b[43mpath_info\u001b[49m\u001b[43m,\u001b[49m\u001b[43m \u001b[49m\u001b[43mmode\u001b[49m\u001b[38;5;241;43m=\u001b[39;49m\u001b[43mmode\u001b[49m\u001b[43m,\u001b[49m\u001b[43m \u001b[49m\u001b[43mencoding\u001b[49m\u001b[38;5;241;43m=\u001b[39;49m\u001b[43mencoding\u001b[49m\u001b[43m,\u001b[49m\u001b[43m \u001b[49m\u001b[38;5;241;43m*\u001b[39;49m\u001b[38;5;241;43m*\u001b[39;49m\u001b[43mkwargs\u001b[49m\u001b[43m)\u001b[49m\n",
      "File \u001b[0;32m~/fixdesktop/virtual/deploy_ml_fundamentals/lib/python3.9/site-packages/dvc/fs/dvc.py:106\u001b[0m, in \u001b[0;36mDvcFileSystem.open\u001b[0;34m(self, path, mode, encoding, **kwargs)\u001b[0m\n\u001b[1;32m    103\u001b[0m \u001b[38;5;28;01mdef\u001b[39;00m \u001b[38;5;21mopen\u001b[39m(  \u001b[38;5;66;03m# type: ignore\u001b[39;00m\n\u001b[1;32m    104\u001b[0m     \u001b[38;5;28mself\u001b[39m, path: PathInfo, mode\u001b[38;5;241m=\u001b[39m\u001b[38;5;124m\"\u001b[39m\u001b[38;5;124mr\u001b[39m\u001b[38;5;124m\"\u001b[39m, encoding\u001b[38;5;241m=\u001b[39m\u001b[38;5;28;01mNone\u001b[39;00m, \u001b[38;5;241m*\u001b[39m\u001b[38;5;241m*\u001b[39mkwargs\n\u001b[1;32m    105\u001b[0m ):  \u001b[38;5;66;03m# pylint: disable=arguments-renamed\u001b[39;00m\n\u001b[0;32m--> 106\u001b[0m     fs, fspath \u001b[38;5;241m=\u001b[39m \u001b[38;5;28;43mself\u001b[39;49m\u001b[38;5;241;43m.\u001b[39;49m\u001b[43m_get_fs_path\u001b[49m\u001b[43m(\u001b[49m\u001b[43mpath\u001b[49m\u001b[43m,\u001b[49m\u001b[43m \u001b[49m\u001b[38;5;241;43m*\u001b[39;49m\u001b[38;5;241;43m*\u001b[39;49m\u001b[43mkwargs\u001b[49m\u001b[43m)\u001b[49m\n\u001b[1;32m    107\u001b[0m     \u001b[38;5;28;01mreturn\u001b[39;00m fs\u001b[38;5;241m.\u001b[39mopen(fspath, mode\u001b[38;5;241m=\u001b[39mmode, encoding\u001b[38;5;241m=\u001b[39mencoding)\n",
      "File \u001b[0;32m~/fixdesktop/virtual/deploy_ml_fundamentals/lib/python3.9/site-packages/dvc/fs/dvc.py:70\u001b[0m, in \u001b[0;36mDvcFileSystem._get_fs_path\u001b[0;34m(self, path, remote)\u001b[0m\n\u001b[1;32m     69\u001b[0m \u001b[38;5;28;01mexcept\u001b[39;00m OutputNotFoundError \u001b[38;5;28;01mas\u001b[39;00m exc:\n\u001b[0;32m---> 70\u001b[0m     \u001b[38;5;28;01mraise\u001b[39;00m \u001b[38;5;167;01mFileNotFoundError\u001b[39;00m \u001b[38;5;28;01mfrom\u001b[39;00m \u001b[38;5;21;01mexc\u001b[39;00m\n\u001b[1;32m     72\u001b[0m \u001b[38;5;28;01mif\u001b[39;00m \u001b[38;5;28mlen\u001b[39m(outs) \u001b[38;5;241m!=\u001b[39m \u001b[38;5;241m1\u001b[39m \u001b[38;5;129;01mor\u001b[39;00m (\n\u001b[1;32m     73\u001b[0m     outs[\u001b[38;5;241m0\u001b[39m]\u001b[38;5;241m.\u001b[39mis_dir_checksum \u001b[38;5;129;01mand\u001b[39;00m path \u001b[38;5;241m==\u001b[39m outs[\u001b[38;5;241m0\u001b[39m]\u001b[38;5;241m.\u001b[39mpath_info\n\u001b[1;32m     74\u001b[0m ):\n",
      "\u001b[0;31mFileNotFoundError\u001b[0m: ",
      "\nThe above exception was the direct cause of the following exception:\n",
      "\u001b[0;31mFileMissingError\u001b[0m                          Traceback (most recent call last)",
      "Input \u001b[0;32mIn [55]\u001b[0m, in \u001b[0;36m<module>\u001b[0;34m\u001b[0m\n\u001b[1;32m      1\u001b[0m \u001b[38;5;28;01mimport\u001b[39;00m \u001b[38;5;21;01mdvc\u001b[39;00m\u001b[38;5;21;01m.\u001b[39;00m\u001b[38;5;21;01mapi\u001b[39;00m\n\u001b[0;32m----> 3\u001b[0m movies \u001b[38;5;241m=\u001b[39m \u001b[43mdvc\u001b[49m\u001b[38;5;241;43m.\u001b[39;49m\u001b[43mapi\u001b[49m\u001b[38;5;241;43m.\u001b[39;49m\u001b[43mread\u001b[49m\u001b[43m(\u001b[49m\u001b[38;5;124;43m'\u001b[39;49m\u001b[38;5;124;43mmovies.csv\u001b[39;49m\u001b[38;5;124;43m'\u001b[39;49m\u001b[43m,\u001b[49m\u001b[43mremote\u001b[49m\u001b[38;5;241;43m=\u001b[39;49m\u001b[38;5;124;43m'\u001b[39;49m\u001b[38;5;124;43mdvc_origin_data\u001b[39;49m\u001b[38;5;124;43m'\u001b[39;49m\u001b[43m)\u001b[49m\n\u001b[1;32m      4\u001b[0m movies\n",
      "File \u001b[0;32m~/fixdesktop/virtual/deploy_ml_fundamentals/lib/python3.9/site-packages/dvc/api.py:88\u001b[0m, in \u001b[0;36mread\u001b[0;34m(path, repo, rev, remote, mode, encoding)\u001b[0m\n\u001b[1;32m     82\u001b[0m \u001b[38;5;28;01mdef\u001b[39;00m \u001b[38;5;21mread\u001b[39m(path, repo\u001b[38;5;241m=\u001b[39m\u001b[38;5;28;01mNone\u001b[39;00m, rev\u001b[38;5;241m=\u001b[39m\u001b[38;5;28;01mNone\u001b[39;00m, remote\u001b[38;5;241m=\u001b[39m\u001b[38;5;28;01mNone\u001b[39;00m, mode\u001b[38;5;241m=\u001b[39m\u001b[38;5;124m\"\u001b[39m\u001b[38;5;124mr\u001b[39m\u001b[38;5;124m\"\u001b[39m, encoding\u001b[38;5;241m=\u001b[39m\u001b[38;5;28;01mNone\u001b[39;00m):\n\u001b[1;32m     83\u001b[0m     \u001b[38;5;124;03m\"\"\"\u001b[39;00m\n\u001b[1;32m     84\u001b[0m \u001b[38;5;124;03m    Returns the contents of a tracked file (by DVC or Git). For Git repos, HEAD\u001b[39;00m\n\u001b[1;32m     85\u001b[0m \u001b[38;5;124;03m    is used unless a rev argument is supplied. The default remote is tried\u001b[39;00m\n\u001b[1;32m     86\u001b[0m \u001b[38;5;124;03m    unless a remote argument is supplied.\u001b[39;00m\n\u001b[1;32m     87\u001b[0m \u001b[38;5;124;03m    \"\"\"\u001b[39;00m\n\u001b[0;32m---> 88\u001b[0m     \u001b[38;5;28;01mwith\u001b[39;00m \u001b[38;5;28mopen\u001b[39m(\n\u001b[1;32m     89\u001b[0m         path, repo\u001b[38;5;241m=\u001b[39mrepo, rev\u001b[38;5;241m=\u001b[39mrev, remote\u001b[38;5;241m=\u001b[39mremote, mode\u001b[38;5;241m=\u001b[39mmode, encoding\u001b[38;5;241m=\u001b[39mencoding\n\u001b[1;32m     90\u001b[0m     ) \u001b[38;5;28;01mas\u001b[39;00m fd:\n\u001b[1;32m     91\u001b[0m         \u001b[38;5;28;01mreturn\u001b[39;00m fd\u001b[38;5;241m.\u001b[39mread()\n",
      "File \u001b[0;32m/Library/Frameworks/Python.framework/Versions/3.9/lib/python3.9/contextlib.py:117\u001b[0m, in \u001b[0;36m_GeneratorContextManager.__enter__\u001b[0;34m(self)\u001b[0m\n\u001b[1;32m    115\u001b[0m \u001b[38;5;28;01mdel\u001b[39;00m \u001b[38;5;28mself\u001b[39m\u001b[38;5;241m.\u001b[39margs, \u001b[38;5;28mself\u001b[39m\u001b[38;5;241m.\u001b[39mkwds, \u001b[38;5;28mself\u001b[39m\u001b[38;5;241m.\u001b[39mfunc\n\u001b[1;32m    116\u001b[0m \u001b[38;5;28;01mtry\u001b[39;00m:\n\u001b[0;32m--> 117\u001b[0m     \u001b[38;5;28;01mreturn\u001b[39;00m \u001b[38;5;28;43mnext\u001b[39;49m\u001b[43m(\u001b[49m\u001b[38;5;28;43mself\u001b[39;49m\u001b[38;5;241;43m.\u001b[39;49m\u001b[43mgen\u001b[49m\u001b[43m)\u001b[49m\n\u001b[1;32m    118\u001b[0m \u001b[38;5;28;01mexcept\u001b[39;00m \u001b[38;5;167;01mStopIteration\u001b[39;00m:\n\u001b[1;32m    119\u001b[0m     \u001b[38;5;28;01mraise\u001b[39;00m \u001b[38;5;167;01mRuntimeError\u001b[39;00m(\u001b[38;5;124m\"\u001b[39m\u001b[38;5;124mgenerator didn\u001b[39m\u001b[38;5;124m'\u001b[39m\u001b[38;5;124mt yield\u001b[39m\u001b[38;5;124m\"\u001b[39m) \u001b[38;5;28;01mfrom\u001b[39;00m \u001b[38;5;28mNone\u001b[39m\n",
      "File \u001b[0;32m~/fixdesktop/virtual/deploy_ml_fundamentals/lib/python3.9/site-packages/dvc/api.py:76\u001b[0m, in \u001b[0;36m_open\u001b[0;34m(path, repo, rev, remote, mode, encoding)\u001b[0m\n\u001b[1;32m     74\u001b[0m \u001b[38;5;28;01mdef\u001b[39;00m \u001b[38;5;21m_open\u001b[39m(path, repo\u001b[38;5;241m=\u001b[39m\u001b[38;5;28;01mNone\u001b[39;00m, rev\u001b[38;5;241m=\u001b[39m\u001b[38;5;28;01mNone\u001b[39;00m, remote\u001b[38;5;241m=\u001b[39m\u001b[38;5;28;01mNone\u001b[39;00m, mode\u001b[38;5;241m=\u001b[39m\u001b[38;5;124m\"\u001b[39m\u001b[38;5;124mr\u001b[39m\u001b[38;5;124m\"\u001b[39m, encoding\u001b[38;5;241m=\u001b[39m\u001b[38;5;28;01mNone\u001b[39;00m):\n\u001b[1;32m     75\u001b[0m     \u001b[38;5;28;01mwith\u001b[39;00m Repo\u001b[38;5;241m.\u001b[39mopen(repo, rev\u001b[38;5;241m=\u001b[39mrev, subrepos\u001b[38;5;241m=\u001b[39m\u001b[38;5;28;01mTrue\u001b[39;00m, uninitialized\u001b[38;5;241m=\u001b[39m\u001b[38;5;28;01mTrue\u001b[39;00m) \u001b[38;5;28;01mas\u001b[39;00m _repo:\n\u001b[0;32m---> 76\u001b[0m         \u001b[38;5;28;01mwith\u001b[39;00m _repo\u001b[38;5;241m.\u001b[39mopen_by_relpath(\n\u001b[1;32m     77\u001b[0m             path, remote\u001b[38;5;241m=\u001b[39mremote, mode\u001b[38;5;241m=\u001b[39mmode, encoding\u001b[38;5;241m=\u001b[39mencoding\n\u001b[1;32m     78\u001b[0m         ) \u001b[38;5;28;01mas\u001b[39;00m fd:\n\u001b[1;32m     79\u001b[0m             \u001b[38;5;28;01myield\u001b[39;00m fd\n",
      "File \u001b[0;32m/Library/Frameworks/Python.framework/Versions/3.9/lib/python3.9/contextlib.py:117\u001b[0m, in \u001b[0;36m_GeneratorContextManager.__enter__\u001b[0;34m(self)\u001b[0m\n\u001b[1;32m    115\u001b[0m \u001b[38;5;28;01mdel\u001b[39;00m \u001b[38;5;28mself\u001b[39m\u001b[38;5;241m.\u001b[39margs, \u001b[38;5;28mself\u001b[39m\u001b[38;5;241m.\u001b[39mkwds, \u001b[38;5;28mself\u001b[39m\u001b[38;5;241m.\u001b[39mfunc\n\u001b[1;32m    116\u001b[0m \u001b[38;5;28;01mtry\u001b[39;00m:\n\u001b[0;32m--> 117\u001b[0m     \u001b[38;5;28;01mreturn\u001b[39;00m \u001b[38;5;28;43mnext\u001b[39;49m\u001b[43m(\u001b[49m\u001b[38;5;28;43mself\u001b[39;49m\u001b[38;5;241;43m.\u001b[39;49m\u001b[43mgen\u001b[49m\u001b[43m)\u001b[49m\n\u001b[1;32m    118\u001b[0m \u001b[38;5;28;01mexcept\u001b[39;00m \u001b[38;5;167;01mStopIteration\u001b[39;00m:\n\u001b[1;32m    119\u001b[0m     \u001b[38;5;28;01mraise\u001b[39;00m \u001b[38;5;167;01mRuntimeError\u001b[39;00m(\u001b[38;5;124m\"\u001b[39m\u001b[38;5;124mgenerator didn\u001b[39m\u001b[38;5;124m'\u001b[39m\u001b[38;5;124mt yield\u001b[39m\u001b[38;5;124m\"\u001b[39m) \u001b[38;5;28;01mfrom\u001b[39;00m \u001b[38;5;28mNone\u001b[39m\n",
      "File \u001b[0;32m~/fixdesktop/virtual/deploy_ml_fundamentals/lib/python3.9/site-packages/dvc/repo/__init__.py:468\u001b[0m, in \u001b[0;36mRepo.open_by_relpath\u001b[0;34m(self, path, remote, mode, encoding)\u001b[0m\n\u001b[1;32m    466\u001b[0m         \u001b[38;5;28;01myield\u001b[39;00m fobj\n\u001b[1;32m    467\u001b[0m \u001b[38;5;28;01mexcept\u001b[39;00m \u001b[38;5;167;01mFileNotFoundError\u001b[39;00m \u001b[38;5;28;01mas\u001b[39;00m exc:\n\u001b[0;32m--> 468\u001b[0m     \u001b[38;5;28;01mraise\u001b[39;00m FileMissingError(path) \u001b[38;5;28;01mfrom\u001b[39;00m \u001b[38;5;21;01mexc\u001b[39;00m\n\u001b[1;32m    469\u001b[0m \u001b[38;5;28;01mexcept\u001b[39;00m \u001b[38;5;167;01mIsADirectoryError\u001b[39;00m \u001b[38;5;28;01mas\u001b[39;00m exc:\n\u001b[1;32m    470\u001b[0m     \u001b[38;5;28;01mraise\u001b[39;00m DvcIsADirectoryError(\u001b[38;5;124mf\u001b[39m\u001b[38;5;124m\"\u001b[39m\u001b[38;5;124m'\u001b[39m\u001b[38;5;132;01m{\u001b[39;00mpath\u001b[38;5;132;01m}\u001b[39;00m\u001b[38;5;124m'\u001b[39m\u001b[38;5;124m is a directory\u001b[39m\u001b[38;5;124m\"\u001b[39m) \u001b[38;5;28;01mfrom\u001b[39;00m \u001b[38;5;21;01mexc\u001b[39;00m\n",
      "\u001b[0;31mFileMissingError\u001b[0m: Can't find '../movies.csv' neither locally nor on remote"
     ]
    }
   ],
   "source": [
    "import dvc.api\n",
    "\n",
    "movies = dvc.api.read('movies.csv',remote='dvc_origin_data')\n",
    "movies"
   ]
  }
 ],
 "metadata": {
  "interpreter": {
   "hash": "5c359fdf9c4744530b3f8fc4c09ee2f9d489030b9749bc740da6e122cd4ed21e"
  },
  "kernelspec": {
   "display_name": "Python 3.9.0 ('deploy_ml_fundamentals': venv)",
   "language": "python",
   "name": "python3"
  },
  "language_info": {
   "codemirror_mode": {
    "name": "ipython",
    "version": 3
   },
   "file_extension": ".py",
   "mimetype": "text/x-python",
   "name": "python",
   "nbconvert_exporter": "python",
   "pygments_lexer": "ipython3",
   "version": "3.9.0"
  },
  "orig_nbformat": 4
 },
 "nbformat": 4,
 "nbformat_minor": 2
}
