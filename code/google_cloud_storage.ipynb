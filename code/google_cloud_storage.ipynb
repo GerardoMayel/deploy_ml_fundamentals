{
 "cells": [
  {
   "cell_type": "code",
   "execution_count": 5,
   "metadata": {},
   "outputs": [],
   "source": [
    "import os\n",
    "from google.cloud import storage"
   ]
  },
  {
   "cell_type": "code",
   "execution_count": 6,
   "metadata": {},
   "outputs": [],
   "source": [
    "os.environ['GOOGLE_APPLICATION_CREDENTIALS'] = 'ml-ops-fundamentals-97a27aef545e.json'"
   ]
  },
  {
   "cell_type": "markdown",
   "metadata": {},
   "source": [
    "<h4>Create Object Bucket<h4>"
   ]
  },
  {
   "cell_type": "code",
   "execution_count": 7,
   "metadata": {},
   "outputs": [],
   "source": [
    "storage_client = storage.Client()"
   ]
  },
  {
   "cell_type": "markdown",
   "metadata": {},
   "source": [
    "<h4>Create a new Bucket<h4>"
   ]
  },
  {
   "cell_type": "code",
   "execution_count": 8,
   "metadata": {},
   "outputs": [
    {
     "name": "stderr",
     "output_type": "stream",
     "text": [
      "/var/folders/6m/hyg2m8l17n90b43ntnk_cybh0000gn/T/ipykernel_13512/4092802494.py:3: DeprecationWarning: Assignment to 'Bucket.location' is deprecated, as it is only valid before the bucket is created. Instead, pass the location to `Bucket.create`.\n",
      "  bucket.location = 'US'\n"
     ]
    }
   ],
   "source": [
    "bucket_name = 'ml-ops-fundamentals-bucket'\n",
    "bucket = storage_client.bucket(bucket_name)\n",
    "bucket.location = 'US'\n",
    "bucket = storage_client.create_bucket(bucket)"
   ]
  },
  {
   "cell_type": "markdown",
   "metadata": {},
   "source": [
    "<h4>Print Bucket Detail<h4>"
   ]
  },
  {
   "cell_type": "code",
   "execution_count": null,
   "metadata": {},
   "outputs": [],
   "source": [
    "vars(bucket)"
   ]
  },
  {
   "cell_type": "markdown",
   "metadata": {},
   "source": [
    "<h4>Accesing a Specific Bucket<h4>"
   ]
  },
  {
   "cell_type": "code",
   "execution_count": null,
   "metadata": {},
   "outputs": [],
   "source": [
    "my_bucket = storage_client.get_bucket(bucket_name)"
   ]
  },
  {
   "cell_type": "markdown",
   "metadata": {},
   "source": [
    "<h4>Upload Files<h4>"
   ]
  },
  {
   "cell_type": "code",
   "execution_count": 17,
   "metadata": {},
   "outputs": [],
   "source": [
    "def upload_to_bucket(blob_name,file_path,bucket_name):\n",
    "    try:\n",
    "        bucket = storage_client.get_bucket(bucket_name)\n",
    "        blob = bucket.blob(blob_name)\n",
    "        blob.upload_from_filename(file_path)\n",
    "        return print('Uploaded {} to {}'.format(file_path,bucket_name))\n",
    "    except Exception as e:\n",
    "        print(e)\n",
    "        return False"
   ]
  },
  {
   "cell_type": "code",
   "execution_count": 23,
   "metadata": {},
   "outputs": [
    {
     "name": "stdout",
     "output_type": "stream",
     "text": [
      "Uploaded /Users/mayel/fixdesktop/virtual/deploy_ml_fundamentals/data/finantials.csv.dvc to ml-ops-fundamentals-bucket\n"
     ]
    }
   ],
   "source": [
    "#File 1\n",
    "file_path = r'/Users/mayel/fixdesktop/virtual/deploy_ml_fundamentals/data/finantials.csv.dvc'\n",
    "upload_to_bucket('DVC_DATA/finantials.csv.dvc',file_path,bucket_name)"
   ]
  },
  {
   "cell_type": "code",
   "execution_count": 24,
   "metadata": {},
   "outputs": [
    {
     "name": "stdout",
     "output_type": "stream",
     "text": [
      "Uploaded /Users/mayel/fixdesktop/virtual/deploy_ml_fundamentals/data/full_data.csv.dvc to ml-ops-fundamentals-bucket\n"
     ]
    }
   ],
   "source": [
    "#File 2\n",
    "file_path = r'/Users/mayel/fixdesktop/virtual/deploy_ml_fundamentals/data/full_data.csv.dvc'\n",
    "upload_to_bucket('DVC_DATA/full_data.csv.dvc',file_path,bucket_name)"
   ]
  },
  {
   "cell_type": "code",
   "execution_count": 25,
   "metadata": {},
   "outputs": [
    {
     "name": "stdout",
     "output_type": "stream",
     "text": [
      "Uploaded /Users/mayel/fixdesktop/virtual/deploy_ml_fundamentals/data/movies.csv.dvc to ml-ops-fundamentals-bucket\n"
     ]
    }
   ],
   "source": [
    "#File 3\n",
    "file_path = r'/Users/mayel/fixdesktop/virtual/deploy_ml_fundamentals/data/movies.csv.dvc'\n",
    "upload_to_bucket('DVC_DATA/movies.csv.dvc',file_path,bucket_name)"
   ]
  },
  {
   "cell_type": "code",
   "execution_count": 26,
   "metadata": {},
   "outputs": [
    {
     "name": "stdout",
     "output_type": "stream",
     "text": [
      "Uploaded /Users/mayel/fixdesktop/virtual/deploy_ml_fundamentals/data/opening_gross.csv.dvc to ml-ops-fundamentals-bucket\n"
     ]
    }
   ],
   "source": [
    "#File 4\n",
    "file_path = r'/Users/mayel/fixdesktop/virtual/deploy_ml_fundamentals/data/opening_gross.csv.dvc'\n",
    "upload_to_bucket('DVC_DATA/opening_gross.csv.dvc',file_path,bucket_name)"
   ]
  },
  {
   "cell_type": "code",
   "execution_count": 28,
   "metadata": {},
   "outputs": [
    {
     "name": "stdout",
     "output_type": "stream",
     "text": [
      "Uploaded /Users/mayel/fixdesktop/virtual/deploy_ml_fundamentals/models/model.pkl.dvc to ml-ops-fundamentals-bucket\n"
     ]
    }
   ],
   "source": [
    "#File 5 Model\n",
    "file_path = r'/Users/mayel/fixdesktop/virtual/deploy_ml_fundamentals/models/model.pkl.dvc'\n",
    "upload_to_bucket('DVC_MODEL/model.pkl.dvc',file_path,bucket_name)"
   ]
  },
  {
   "cell_type": "markdown",
   "metadata": {},
   "source": [
    "<h4>Download Files<h4>"
   ]
  },
  {
   "cell_type": "code",
   "execution_count": 31,
   "metadata": {},
   "outputs": [],
   "source": [
    "def download_file_from_bucket(blob_name,file_path,bucket_name):\n",
    "    try:\n",
    "        bucket = storage_client.get_bucket(bucket_name)\n",
    "        blob = bucket.blob(blob_name)\n",
    "        with open(file_path, \"wb\") as f:\n",
    "            storage_client.download_blob_to_file(blob, f)\n",
    "        return print('Downloaded {} from {}'.format(blob_name,bucket_name))\n",
    "    except Exception as e:\n",
    "        print(e)\n",
    "        return False"
   ]
  },
  {
   "cell_type": "code",
   "execution_count": 32,
   "metadata": {},
   "outputs": [
    {
     "name": "stdout",
     "output_type": "stream",
     "text": [
      "Downloaded DVC_DATA/finantials.csv.dvc from ml-ops-fundamentals-bucket\n"
     ]
    }
   ],
   "source": [
    "#Test File\n",
    "file_path = r'/Users/mayel/fixdesktop/virtual/deploy_ml_fundamentals/download_from_bucket/finantials.csv.dvc'\n",
    "download_file_from_bucket('DVC_DATA/finantials.csv.dvc', file_path, bucket_name)"
   ]
  }
 ],
 "metadata": {
  "interpreter": {
   "hash": "5c359fdf9c4744530b3f8fc4c09ee2f9d489030b9749bc740da6e122cd4ed21e"
  },
  "kernelspec": {
   "display_name": "Python 3.9.0 ('deploy_ml_fundamentals': venv)",
   "language": "python",
   "name": "python3"
  },
  "language_info": {
   "codemirror_mode": {
    "name": "ipython",
    "version": 3
   },
   "file_extension": ".py",
   "mimetype": "text/x-python",
   "name": "python",
   "nbconvert_exporter": "python",
   "pygments_lexer": "ipython3",
   "version": "3.9.0"
  },
  "orig_nbformat": 4
 },
 "nbformat": 4,
 "nbformat_minor": 2
}
